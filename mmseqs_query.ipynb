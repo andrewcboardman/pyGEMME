{
 "cells": [
  {
   "cell_type": "code",
   "execution_count": 20,
   "metadata": {},
   "outputs": [],
   "source": [
    "from mmseqs_query import run_mmseqs2\n",
    "import requests\n",
    "from io import StringIO\n",
    "from Bio import SeqIO\n",
    "from pathlib import Path\n",
    "import re"
   ]
  },
  {
   "cell_type": "code",
   "execution_count": 24,
   "metadata": {},
   "outputs": [],
   "source": [
    "def get_query_sequence_uniprot(uniprot_name, results_dir):\n",
    "  url = f'https://rest.uniprot.org/uniprotkb/{uniprot_name}.fasta'\n",
    "  r = requests.get(url)\n",
    "  if r.ok:\n",
    "    fasta_io = StringIO(r.text) \n",
    "    seq_record = SeqIO.read(fasta_io, \"fasta\") \n",
    "    SeqIO.write(seq_record, results_dir.joinpath(f'{uniprot_name}.fasta'),format='fasta')\n",
    "    return str(seq_record.seq)\n",
    "  else:\n",
    "    raise Exception('Error retrieving target sequence from Uniprot!')\n",
    "  \n",
    "def remove_inserts_a3m(query_name, raw_msa):\n",
    "  clean_msa = []\n",
    "  for i, line in enumerate(raw_msa):\n",
    "    if i == 0:\n",
    "      clean_msa.append('>' + query_name)\n",
    "    elif line[0] == '>':\n",
    "      name = line.split('\\t')[0]\n",
    "      clean_msa.append(name)\n",
    "    else:\n",
    "      aligned_seq_without_inserts = re.sub(r'[^A-Z_.-]',r'',line)\n",
    "      clean_msa.append(aligned_seq_without_inserts)\n",
    "  return [line + '\\n' for line in clean_msa]"
   ]
  },
  {
   "cell_type": "code",
   "execution_count": 3,
   "metadata": {},
   "outputs": [],
   "source": [
    "results_dir = Path('examples/ADRB2_HUMAN/results')\n",
    "if not results_dir.exists():\n",
    "    results_dir.mkdir(parents=True)\n",
    "query_sequence = get_query_sequence_uniprot('ADRB2_HUMAN', results_dir)"
   ]
  },
  {
   "cell_type": "code",
   "execution_count": 9,
   "metadata": {},
   "outputs": [
    {
     "name": "stderr",
     "output_type": "stream",
     "text": [
      "COMPLETE: 100%|██████████| 150/150 [elapsed: 00:03 remaining: 00:00]\n"
     ]
    }
   ],
   "source": [
    "jobname = 'ADRB2_HUMAN'\n",
    "msa_lines = run_mmseqs2(query_sequence, jobname, use_env=True, use_filter=True)"
   ]
  },
  {
   "cell_type": "code",
   "execution_count": 13,
   "metadata": {},
   "outputs": [],
   "source": [
    "msa_file = f'{jobname}_env/uniref.a3m'"
   ]
  },
  {
   "cell_type": "code",
   "execution_count": 14,
   "metadata": {},
   "outputs": [],
   "source": [
    "with open(msa_file,'r') as fid:\n",
    "    msa_lines = fid.readlines()         "
   ]
  },
  {
   "cell_type": "code",
   "execution_count": 25,
   "metadata": {},
   "outputs": [],
   "source": [
    "clean_msa = remove_inserts_a3m('ADRB2_HUMAN',msa_lines)"
   ]
  },
  {
   "cell_type": "code",
   "execution_count": 27,
   "metadata": {},
   "outputs": [],
   "source": [
    "with open(f'{jobname}_env/uniref.fasta','w') as fid:\n",
    "    fid.writelines(clean_msa)"
   ]
  },
  {
   "cell_type": "code",
   "execution_count": null,
   "metadata": {},
   "outputs": [],
   "source": []
  }
 ],
 "metadata": {
  "kernelspec": {
   "display_name": "variants",
   "language": "python",
   "name": "python3"
  },
  "language_info": {
   "codemirror_mode": {
    "name": "ipython",
    "version": 3
   },
   "file_extension": ".py",
   "mimetype": "text/x-python",
   "name": "python",
   "nbconvert_exporter": "python",
   "pygments_lexer": "ipython3",
   "version": "3.11.4"
  },
  "orig_nbformat": 4
 },
 "nbformat": 4,
 "nbformat_minor": 2
}
